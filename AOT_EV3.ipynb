{
  "nbformat": 4,
  "nbformat_minor": 0,
  "metadata": {
    "colab": {
      "provenance": [],
      "authorship_tag": "ABX9TyOZFdcuHcSjh7lPAywqsqfy",
      "include_colab_link": true
    },
    "kernelspec": {
      "name": "python3",
      "display_name": "Python 3"
    },
    "language_info": {
      "name": "python"
    }
  },
  "cells": [
    {
      "cell_type": "markdown",
      "metadata": {
        "id": "view-in-github",
        "colab_type": "text"
      },
      "source": [
        "<a href=\"https://colab.research.google.com/github/AdrianOT22/AOT_EV3/blob/main/AOT_EV3.ipynb\" target=\"_parent\"><img src=\"https://colab.research.google.com/assets/colab-badge.svg\" alt=\"Open In Colab\"/></a>"
      ]
    },
    {
      "cell_type": "code",
      "execution_count": 14,
      "metadata": {
        "colab": {
          "base_uri": "https://localhost:8080/"
        },
        "id": "Z9eu_OvWmkyY",
        "outputId": "a775782c-b68b-4d5c-a172-688fad8bd8e7"
      },
      "outputs": [
        {
          "output_type": "stream",
          "name": "stdout",
          "text": [
            "Objeto recuperado: {'Nombre': 'Adrián Ontiveros Tello', 'Edad': 19, 'Intereses': ['Programación', 'Videojuegos', 'Dibujar']}\n"
          ]
        }
      ],
      "source": [
        "import pickle\n",
        "\n",
        "# Objeto a serializar\n",
        "Estudiante = {\"Nombre\": \"Adrián Ontiveros Tello\", \"Edad\": 19, \"Intereses\": [\"Programación\", \"Videojuegos\", \"Dibujar\"]}\n",
        "\n",
        "# Serializar el objeto y almacenarlo en un archivo binario usando pickle\n",
        "with open('archivo.pickle', 'wb') as archivo:\n",
        "    pickle.dump(Estudiante, archivo)\n",
        "\n",
        "# Deserializar el objeto desde el archivo pickle\n",
        "with open('archivo.pickle', 'rb') as archivo:\n",
        "    objeto_recuperado = pickle.load(archivo)\n",
        "\n",
        "# Mostrar el objeto recuperado\n",
        "print(\"Objeto recuperado:\", objeto_recuperado)"
      ]
    }
  ]
}